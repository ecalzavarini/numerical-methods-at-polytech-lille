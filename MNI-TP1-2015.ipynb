{
 "metadata": {
  "name": "",
  "signature": "sha256:0dbbd1f67a789f0a573782736a3e7fd8f94ced9b9aba92073125bbcea287c744"
 },
 "nbformat": 3,
 "nbformat_minor": 0,
 "worksheets": [
  {
   "cells": [
    {
     "cell_type": "heading",
     "level": 5,
     "metadata": {},
     "source": [
      "TP 1 -- M\u00e9thodes Num\u00e9riques pour l\u2019Ing\u00e9nieur CM3 -- Mars 2015 "
     ]
    },
    {
     "cell_type": "heading",
     "level": 1,
     "metadata": {},
     "source": [
      "R\u00e9solution des \u00e9quations non lin\u00e9aires"
     ]
    },
    {
     "cell_type": "markdown",
     "metadata": {},
     "source": [
      "Le texte de cette session de travaux pratiques est \u00e9galement disponible ici\n",
      "\n",
      "http://nbviewer.ipython.org/github/ecalzavarini/numerical-methods-at-polytech-lille/blob/master/MNI-TP1-2015.ipynb        "
     ]
    },
    {
     "cell_type": "heading",
     "level": 3,
     "metadata": {},
     "source": [
      "Instructions pour ce TP"
     ]
    },
    {
     "cell_type": "markdown",
     "metadata": {},
     "source": [
      "Pendant ce TP vous aurez \u00e0 \u00e9crire plusieurs scripts (nous vous sugg\u00e9rons de les nommer script1.py , script2.py ,...) \n",
      "\n",
      "\n",
      "\n"
     ]
    },
    {
     "cell_type": "markdown",
     "metadata": {},
     "source": [
      "Les scripts doivent \u00eatre accompagn\u00e9s par un document descriptif unique ( README.txt ). \n",
      "Dans ce fichier, vous devrez d\u00e9crire le mode de fonctionnement des scripts et, si besoin,  mettre vos commentaires.\n",
      "Merci d'y \u00e9crires aussi vos nomes et pr\u00e9noms complets.\n"
     ]
    },
    {
     "cell_type": "markdown",
     "metadata": {},
     "source": [
      "Tous les fichiers doivent etre mis dans un dossier appel\u00e9 TP1-nom1-nom2  et ensuite \u00eatre compress\u00e9s dans un fichier TP1-nom1-nom2.tgz . \n"
     ]
    },
    {
     "cell_type": "markdown",
     "metadata": {},
     "source": [
      "Enfin vous allez envoyer ce fichier par email  \u00e0 l'enseignant : \n",
      "\n",
      "soit Enrico (enrico.calzavarini@polytech-lille.fr) ou Stefano (stefano.berti@polytech-lille.fr)\n",
      "\n"
     ]
    },
    {
     "cell_type": "markdown",
     "metadata": {},
     "source": [
      "Vous avez une semaine de temps pour compl\u00e9ter le TP, c\u2019est-\u00e0-dire que la date limite pour envoyer vos travaux est 7 jours apr\u00e8s la date du TP courant."
     ]
    },
    {
     "cell_type": "heading",
     "level": 2,
     "metadata": {},
     "source": [
      " Objectif"
     ]
    },
    {
     "cell_type": "markdown",
     "metadata": {},
     "source": [
      "Ecrire un script Python permettant la recherche des racines d'une \u00e9quation quelconque $f(x)=0$ par la m\u00e9thode :\n",
      "\n",
      "$a$) de bissection (recherche dichotomique),\n",
      "\n",
      "$b$) de la tangente (de Newton-Raphson) ,\n",
      "\n",
      "en appliquant le crit\u00e8re d'arr\u00eat \ufffc$ |x_{n+1} \u2212 x_{n}| < \\varepsilon$ , o\u00f9 la valeur de $\\varepsilon$ sera pr\u00e9cis\u00e9e par l'utilisateur. \n",
      "\n",
      "La fonction $f(x)$ sera d\u00e9finie \u00e0 l\u2019aide d\u2019une $function$ dans le script.\n"
     ]
    },
    {
     "cell_type": "heading",
     "level": 2,
     "metadata": {},
     "source": [
      "Programmation et validation"
     ]
    },
    {
     "cell_type": "markdown",
     "metadata": {},
     "source": [
      "D\u00e9terminer la racine de l\u2019\u00e9quation \n",
      "\n",
      "$$f (x) = x^4 \u2212 2x^3 \u221211x^2 +12x$$ \n",
      "\n",
      "par la $\\mathrm{\\bf m\u00e9thode \\, de \\, bissection}$ (dans l\u2019intervalle $x \\in \\left[3.2, 8.2 \\right]$) et  $\\mathrm{\\bf de \\, la \\, tangente}$ (en commen\u00e7ant les it\u00e9rations par $x_0=8.2$).\n",
      "\n",
      "On effectuera les calculs de la racine avec les pr\u00e9cisions $\\varepsilon = 10^{-k}$ avec  $k=1,\\ldots ,6$. \n",
      "\n",
      "Tracer au pr\u00e9alable le $\\mathrm{\\bf graphique}$ de la fonction $f(x)$ dans l\u2019intervalle consid\u00e9r\u00e9.\n",
      "\n",
      "Pour chaque calcul pr\u00e9ciser : \n",
      "la valeur de la racine $x$ trouv\u00e9e, de la fonction $f(x)$, de l\u2019erreur absolue $\\varepsilon =|x-x^*|$ (avec $x^*$ le valeur exacte, \u00e9gale ici \u00e0 4.0) ainsi que le nombre d\u2019it\u00e9rations effectu\u00e9es. \n",
      "\n",
      "Les valeurs obtenues doivent \u00eatre affich\u00e9es de fa\u00e7on claire sur l'\u00e9cran par le script et dans le compte-rendu dans un tableau. \n",
      "\n",
      "Formuler une conclusion sur les r\u00e9sultats obtenus. "
     ]
    },
    {
     "cell_type": "heading",
     "level": 2,
     "metadata": {},
     "source": [
      "Application"
     ]
    },
    {
     "cell_type": "markdown",
     "metadata": {},
     "source": [
      "Une boule de rayon R et de masse volumique $\\rho_l$ est plac\u00e9e dans un r\u00e9servoir rempli d'un liquide au repos de masse volumique $\u03c1_f = 1000 Kg/m^3$ (eau). La boule s\u2019enfonce alors d\u2019une hauteur $h$ (voir la figure ci-dessous).\n",
      "\n",
      "Le but de cet exercice est de d\u00e9terminer, \u00e0 l\u2019aide des m\u00e9thodes num\u00e9riques vues auparavant, cette hauteur $h$ en fonction de la masse volumique de la boule $\\rho_l$ ."
     ]
    },
    {
     "cell_type": "code",
     "collapsed": false,
     "input": [
      "from IPython.display import Image\n",
      "Image(filename='archimede.jpg')"
     ],
     "language": "python",
     "metadata": {},
     "outputs": [
      {
       "jpeg": "[encoded data removed]",
       "metadata": {},
       "output_type": "pyout",
       "prompt_number": 1,
       "text": [
        "<IPython.core.display.Image at 0x10d42ca10>"
       ]
      }
     ],
     "prompt_number": 1
    },
    {
     "cell_type": "heading",
     "level": 4,
     "metadata": {},
     "source": [
      "Question 1 :"
     ]
    },
    {
     "cell_type": "markdown",
     "metadata": {},
     "source": [
      "En consid\u00e9rant l\u2019\u00e9quilibre des forces en pr\u00e9sence, donner la relation permettant de d\u00e9terminer $h=f(\\rho_l, \\rho_f, R)$.\n",
      "\n",
      "Rappel : \n",
      "\n",
      "Le volume d'une sph\u00e8re du rayon $r$ est donn\u00e9 par l'expression\n",
      "$$V_s = 4/3 \\pi r^3 $$\n",
      "Le volume d'une calotte sph\u00e9rique de rayon $r$ et de hauteur $h$ est\n",
      "$$ V_c = 1/3 \\pi h^2 (3 r - h)$$"
     ]
    },
    {
     "cell_type": "heading",
     "level": 4,
     "metadata": {},
     "source": [
      "Question 2 :"
     ]
    },
    {
     "cell_type": "markdown",
     "metadata": {},
     "source": [
      "Pour $R = 0.125 m$, et pour les valeurs suivantes de $\\rho_l$\n",
      "\n",
      "a) $\\rho_l = 1800 Kg/m^3$ (plexiglas) ,\n",
      "\n",
      "b) $\\rho_l = 1000 Kg/m^3$ (caoutchouc) ,\n",
      "\n",
      "c) $\\rho_l = 400 Kg/m^3$ (pin) ,\n",
      "\n",
      "la boule coulera-t-elle ou non? Sinon, de quelle profondeur $h$ s'enfoncera-t-elle?\n",
      "\n",
      "\n",
      "Pour le trois cas tracer au pr\u00e9alable le graphique de la fonction $f(x)$ dans l\u2019intervalle \u00e9tudi\u00e9."
     ]
    },
    {
     "cell_type": "heading",
     "level": 4,
     "metadata": {},
     "source": [
      "Bonus: "
     ]
    },
    {
     "cell_type": "markdown",
     "metadata": {},
     "source": [
      "D\u00e9terminer $h=f(\\rho_l, \\rho_f, R)$ \u00e0 l\u2019aide de la m\u00e9thode de la corde (de la regula-falsi)."
     ]
    },
    {
     "cell_type": "heading",
     "level": 6,
     "metadata": {},
     "source": [
      "Rappel : pour tracer un graphique en Python"
     ]
    },
    {
     "cell_type": "code",
     "collapsed": false,
     "input": [
      "import numpy as np\n",
      "import matplotlib.pyplot as plt\n",
      "\n",
      "%matplotlib inline  \n",
      "#ignorez la ligne ci-dessus. c'est juste une commande de notre \u00e9diteur de texte\n",
      "\n",
      "x=np.linspace(-5,5,100)  # nous d\u00e9finissons une liste (array) avec Numpy \n",
      "plt.plot(x,np.sin(x)*np.exp(x)-1)  # on utilise la fonction sinus de Numpy\n",
      "plt.plot(x,np.zeros(100))  \n",
      "plt.ylabel('fonction sinus')\n",
      "plt.xlabel(\"l'axe des abcisses\")\n",
      "plt.axis([0, 5, -10, 10])\n",
      "plt.show()"
     ],
     "language": "python",
     "metadata": {},
     "outputs": [
      {
       "metadata": {},
       "output_type": "display_data",
       "png": "[encoded data removed]",
       "text": [
        "<matplotlib.figure.Figure at 0x10b6b6610>"
       ]
      }
     ],
     "prompt_number": 26
    },
    {
     "cell_type": "heading",
     "level": 6,
     "metadata": {},
     "source": [
      "Rappel : pour definir une $function$ en Python"
     ]
    },
    {
     "cell_type": "code",
     "collapsed": false,
     "input": [
      "def f(x):\n",
      "    return 2 * x + 1"
     ],
     "language": "python",
     "metadata": {},
     "outputs": [],
     "prompt_number": 2
    },
    {
     "cell_type": "markdown",
     "metadata": {},
     "source": [
      "Ignorez la cellule ci-dessous. Elle charge notre style d'affichage pour ce document."
     ]
    },
    {
     "cell_type": "code",
     "collapsed": false,
     "input": [
      "from IPython.core.display import HTML\n",
      "def css_styling():\n",
      "    styles = open('custom.css', 'r').read()\n",
      "    return HTML(styles)\n",
      "css_styling()"
     ],
     "language": "python",
     "metadata": {},
     "outputs": [
      {
       "html": [
        "<link href='http://fonts.googleapis.com/css?family=Fenix' rel='stylesheet' type='text/css'>\n",
        "<link href='http://fonts.googleapis.com/css?family=Alegreya+Sans:100,300,400,500,700,800,900,100italic,300italic,400italic,500italic,700italic,800italic,900italic' rel='stylesheet' type='text/css'>\n",
        "<link href='http://fonts.googleapis.com/css?family=Source+Code+Pro:300,400' rel='stylesheet' type='text/css'>\n",
        "<style>\n",
        "    @font-face {\n",
        "        font-family: \"Computer Modern\";\n",
        "        src: url('http://mirrors.ctan.org/fonts/cm-unicode/fonts/otf/cmunss.otf');\n",
        "    }\n",
        "    div.cell{\n",
        "        width:800px;\n",
        "        margin-left:16% !important;\n",
        "        margin-right:auto;\n",
        "    }\n",
        "    h1 {\n",
        "        font-family: 'Alegreya Sans', sans-serif;\n",
        "    }\n",
        "    h2 {\n",
        "        font-family: 'Fenix', serif;\n",
        "    }\n",
        "    h3{\n",
        "\tfont-family: 'Fenix', serif;\n",
        "        margin-top:12px;\n",
        "        margin-bottom: 3px;\n",
        "       }\n",
        "       h4{\n",
        "\tfont-family: 'Fenix', serif;\n",
        "       }\n",
        "    h5 {\n",
        "        font-family: 'Alegreya Sans', sans-serif;\n",
        "    }   \n",
        "    h6 {\n",
        "        font-family: 'Alegreya Sans', sans-serif;\n",
        "    }\n",
        "\n",
        "    div.text_cell_render{\n",
        "        font-family: 'Alegreya Sans',Computer Modern, \"Helvetica Neue\", Arial, Helvetica, Geneva, sans-serif;\n",
        "        line-height: 135%;\n",
        "        font-size: 130%;\n",
        "        width:600px;\n",
        "        margin-left:auto;\n",
        "        margin-right:auto;\n",
        "    }\n",
        "    .CodeMirror{\n",
        "            font-family: \"Source Code Pro\";\n",
        "\t    \t\t \t font-size: 90%;\n",
        "    }\n",
        "/*    .prompt{\n",
        "        display: None;\n",
        "    }*/\n",
        "    .text_cell_render h1 {\n",
        "        font-weight: 200;\n",
        "        font-size: 40pt;\n",
        "        line-height: 100%;\n",
        "        color:#CD2305;\n",
        "        margin-bottom: 0.5em;\n",
        "        margin-top: 0.5em;\n",
        "        display: block;\n",
        "    }\t\n",
        "    .text_cell_render h5 {\n",
        "        font-weight: 300;\n",
        "        font-size: 16pt;\n",
        "        color: #CD2305;\n",
        "        font-style: italic;\n",
        "        margin-bottom: .5em;\n",
        "        margin-top: 0.5em;\n",
        "        display: block;\n",
        "    }\n",
        "    .text_cell_render h6 {\n",
        "        font-weight: 400;\n",
        "        font-size: 15pt;\n",
        "        color: #00b35a;\n",
        "        font-style: normal;\n",
        "        margin-bottom: .1em;\n",
        "        margin-top: 0.1em;\n",
        "        display: block;\n",
        "    }\n",
        "\n",
        "    \n",
        "    .warning{\n",
        "        color: rgb( 240, 20, 20 )\n",
        "        }  \n",
        "</style>\n",
        "<script>\n",
        "    MathJax.Hub.Config({\n",
        "                        TeX: {\n",
        "                           extensions: [\"AMSmath.js\"]\n",
        "                           },\n",
        "                tex2jax: {\n",
        "                    inlineMath: [ ['$','$'], [\"\\\\(\",\"\\\\)\"] ],\n",
        "                    displayMath: [ ['$$','$$'], [\"\\\\[\",\"\\\\]\"] ]\n",
        "                },\n",
        "                displayAlign: 'center', // Change this to 'center' to center equations.\n",
        "                \"HTML-CSS\": {\n",
        "                    styles: {'.MathJax_Display': {\"margin\": 4}}\n",
        "                }\n",
        "        });\n",
        "</script>"
       ],
       "metadata": {},
       "output_type": "pyout",
       "prompt_number": 1,
       "text": [
        "<IPython.core.display.HTML at 0x10939ead0>"
       ]
      }
     ],
     "prompt_number": 1
    }
   ],
   "metadata": {}
  }
 ]
}