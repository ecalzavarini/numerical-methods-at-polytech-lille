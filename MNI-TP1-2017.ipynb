{
 "cells": [
  {
   "cell_type": "markdown",
   "metadata": {},
   "source": [
    "##### TP 1 -- Méthodes Numériques pour l’Ingénieur CM3"
   ]
  },
  {
   "cell_type": "markdown",
   "metadata": {},
   "source": [
    "# Résolution des équations non linéaires"
   ]
  },
  {
   "cell_type": "markdown",
   "metadata": {},
   "source": [
    "Le texte de cette session de travaux pratiques est également disponible ici\n",
    "\n",
    "http://nbviewer.ipython.org/github/ecalzavarini/numerical-methods-at-polytech-lille/blob/master/MNI-TP1-2017.ipynb        "
   ]
  },
  {
   "cell_type": "markdown",
   "metadata": {},
   "source": [
    "### Instructions pour ce TP"
   ]
  },
  {
   "cell_type": "markdown",
   "metadata": {},
   "source": [
    "Pendant ce TP vous aurez à écrire plusieurs scripts (nous vous suggérons de les nommer script1.py , script2.py ,...) \n",
    "\n",
    "\n",
    "\n"
   ]
  },
  {
   "cell_type": "markdown",
   "metadata": {},
   "source": [
    "Les scripts doivent être accompagnés par un document descriptif unique ( README.txt ). \n",
    "Dans ce fichier, vous devrez décrire le mode de fonctionnement des scripts et, si besoin,  mettre vos commentaires.\n",
    "Merci d'y écrires aussi vos nomes et prénoms complets.\n"
   ]
  },
  {
   "cell_type": "markdown",
   "metadata": {},
   "source": [
    "Tous les fichiers doivent etre mis dans un dossier appelé TP1-nom1-nom2  et ensuite être compressés dans un fichier TP1-nom1-nom2.tgz . \n"
   ]
  },
  {
   "cell_type": "markdown",
   "metadata": {},
   "source": [
    "Enfin vous allez envoyer ce fichier par email  à l'enseignant : \n",
    "\n",
    "soit Enrico (enrico.calzavarini@polytech-lille.fr) ou Stefano (stefano.berti@polytech-lille.fr)\n",
    "\n"
   ]
  },
  {
   "cell_type": "markdown",
   "metadata": {},
   "source": [
    "Vous avez une semaine de temps pour compléter le TP, c’est-à-dire que la date limite pour envoyer vos travaux est 7 jours après la date du TP courant."
   ]
  },
  {
   "cell_type": "markdown",
   "metadata": {},
   "source": [
    "##  Objectif"
   ]
  },
  {
   "cell_type": "markdown",
   "metadata": {},
   "source": [
    "Ecrire un script Python permettant la recherche des racines d'une équation quelconque $f(x)=0$ par la méthode :\n",
    "\n",
    "a) de bissection (recherche dichotomique),\n",
    "\n",
    "b) de la tangente (de Newton-Raphson) ,\n",
    "\n",
    "en utilisant le critère d'arrêt $|x_{n+1} - x_{n}|<\\varepsilon$ où la valeur de $\\varepsilon$ sera précisée par l'utilisateur. \n",
    "\n",
    "La fonction $f(x)$ sera définie à l’aide d’une *function* dans le script.\n"
   ]
  },
  {
   "cell_type": "markdown",
   "metadata": {},
   "source": [
    "## Programmation et validation"
   ]
  },
  {
   "cell_type": "markdown",
   "metadata": {},
   "source": [
    "Déterminer la racine de l’équation \n",
    "\n",
    "$$f (x) = x^4 − 2x^3 −11x^2 +12x$$ \n",
    "\n",
    "par la méthode de bissection (dans l’intervalle $x \\in \\left[3.2, 8.2 \\right]$) et  de la tangente (en commençant les itérations par $x_0=8.2$).\n",
    "\n",
    "On effectuera les calculs de la racine avec les précisions $\\varepsilon = 10^{-k}$ avec  $k=1,\\ldots ,6$. \n",
    "\n",
    "Tracer au préalable le graphique de la fonction $f(x)$ dans l’intervalle considéré.\n",
    "\n",
    "Pour chaque calcul préciser : \n",
    "la valeur de la racine $x$ trouvée, de la fonction $f(x)$, de l’erreur absolue $e =|x-x^*|$ (avec $x^*$ le valeur exacte, égale ici à 4.0) ainsi que le nombre d’itérations effectuées. \n",
    "\n",
    "Les valeurs obtenues doivent être affichées de façon claire sur l'écran par le script et dans le compte-rendu dans un tableau. \n",
    "\n",
    "Formuler une conclusion sur les résultats obtenus. "
   ]
  },
  {
   "cell_type": "markdown",
   "metadata": {},
   "source": [
    "## Application"
   ]
  },
  {
   "cell_type": "markdown",
   "metadata": {},
   "source": [
    "Une boule de rayon R et de masse volumique $\\rho_l$ est placée dans un réservoir rempli d'un liquide au repos de masse volumique $ρ_f = 1000 Kg/m^3$ (eau). La boule s’enfonce alors d’une hauteur $h$ (voir la figure ci-dessous).\n",
    "\n",
    "Le but de cet exercice est de déterminer, à l’aide des méthodes numériques vues auparavant, cette hauteur $h$ en fonction de la masse volumique de la boule $\\rho_l$ ."
   ]
  },
  {
   "cell_type": "code",
   "execution_count": 1,
   "metadata": {
    "collapsed": false
   },
   "outputs": [
    {
     "data": {
      "image/jpeg": "[encoded data removed]",
      "text/plain": [
       "<IPython.core.display.Image object>"
      ]
     },
     "execution_count": 1,
     "metadata": {},
     "output_type": "execute_result"
    }
   ],
   "source": [
    "from IPython.display import Image\n",
    "Image(filename='archimede.jpg')"
   ]
  },
  {
   "cell_type": "markdown",
   "metadata": {},
   "source": [
    "#### Question 1 :"
   ]
  },
  {
   "cell_type": "markdown",
   "metadata": {},
   "source": [
    "En considérant l’équilibre des forces en présence, donner la relation permettant de déterminer $h=f(\\rho_l, \\rho_f, R)$.\n",
    "\n",
    "Rappel : \n",
    "\n",
    "Le volume d'une sphère de rayon $r$ est donné par l'expression\n",
    "$$V_s = 4/3 \\pi r^3 $$\n",
    "Le volume d'une calotte sphérique de rayon $r$ et de hauteur $h$ est\n",
    "$$ V_c = \\pi h^2 (3 r - h)/3$$"
   ]
  },
  {
   "cell_type": "markdown",
   "metadata": {},
   "source": [
    "#### Question 2 :"
   ]
  },
  {
   "cell_type": "markdown",
   "metadata": {},
   "source": [
    "Pour $R = 0.125 m$, et pour les valeurs suivantes de $\\rho_l$\n",
    "\n",
    "a) $\\rho_l = 1800 Kg/m^3$ (plexiglas) ,\n",
    "\n",
    "b) $\\rho_l = 1000 Kg/m^3$ (caoutchouc) ,\n",
    "\n",
    "c) $\\rho_l = 400 Kg/m^3$ (pin) ,\n",
    "\n",
    "la boule coulera-t-elle ou non? Sinon, de quelle profondeur $h$ s'enfoncera-t-elle?\n",
    "\n",
    "\n",
    "Pour le trois cas tracer au préalable le graphique de la fonction $f(x)$ dans l’intervalle étudié."
   ]
  },
  {
   "cell_type": "markdown",
   "metadata": {},
   "source": [
    "#### Bonus: "
   ]
  },
  {
   "cell_type": "markdown",
   "metadata": {},
   "source": [
    "Déterminer $h=f(\\rho_l, \\rho_f, R)$ à l’aide de la méthode de la corde (ou de la regula-falsi)."
   ]
  },
  {
   "cell_type": "markdown",
   "metadata": {},
   "source": [
    "##### Rappel : pour tracer un graphique en Python"
   ]
  },
  {
   "cell_type": "code",
   "execution_count": 2,
   "metadata": {
    "collapsed": false
   },
   "outputs": [
    {
     "data": {
      "image/png": "[encoded data removed]",
      "text/plain": [
       "<matplotlib.figure.Figure at 0x110260050>"
      ]
     },
     "metadata": {},
     "output_type": "display_data"
    }
   ],
   "source": [
    "import numpy as np\n",
    "import matplotlib.pyplot as plt\n",
    "\n",
    "%matplotlib inline  \n",
    "#ignorez la ligne ci-dessus. \n",
    "#c'est juste une commande de notre éditeur de texte\n",
    "\n",
    "# nous définissons une liste (array) avec Numpy\n",
    "x=np.linspace(-5,5,100)\n",
    "# on utilise les fonctions sinus et exponentiel de Numpy\n",
    "plt.plot(x,np.sin(x)*np.exp(x)-1)  \n",
    "plt.plot(x,np.zeros(100))  \n",
    "plt.ylabel('fonction')\n",
    "plt.xlabel(\"axe des abcisses\")\n",
    "plt.axis([0, 5, -10, 10])\n",
    "plt.show()"
   ]
  },
  {
   "cell_type": "markdown",
   "metadata": {},
   "source": [
    "##### Rappel : pour definir une function en Python"
   ]
  },
  {
   "cell_type": "code",
   "execution_count": 3,
   "metadata": {
    "collapsed": false
   },
   "outputs": [],
   "source": [
    "def f(x):\n",
    "    return 2 * x + 1"
   ]
  }
 ],
 "metadata": {
  "kernelspec": {
   "display_name": "Python 2",
   "language": "python",
   "name": "python2"
  },
  "language_info": {
   "codemirror_mode": {
    "name": "ipython",
    "version": 2
   },
   "file_extension": ".py",
   "mimetype": "text/x-python",
   "name": "python",
   "nbconvert_exporter": "python",
   "pygments_lexer": "ipython2",
   "version": "2.7.10"
  }
 },
 "nbformat": 4,
 "nbformat_minor": 0
}
