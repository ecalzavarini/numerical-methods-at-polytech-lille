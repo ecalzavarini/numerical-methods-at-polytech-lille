{
 "metadata": {
  "name": "",
  "signature": "sha256:9fe4e792829b1eac848064ee9ceb5fa71421055ed2a4d0ff1ef4faef63704aa4"
 },
 "nbformat": 3,
 "nbformat_minor": 0,
 "worksheets": [
  {
   "cells": [
    {
     "cell_type": "heading",
     "level": 5,
     "metadata": {},
     "source": [
      "TP 2 -- M\u00e9thodes Num\u00e9riques pour l\u2019Ing\u00e9nieur CM3 -- Mars 2015 "
     ]
    },
    {
     "cell_type": "heading",
     "level": 1,
     "metadata": {},
     "source": [
      "Equations diff\u00e9rentielles ordinaires"
     ]
    },
    {
     "cell_type": "markdown",
     "metadata": {},
     "source": [
      "Le texte de cette session de travaux pratiques est \u00e9galement disponible ici\n",
      "\n",
      "http://nbviewer.ipython.org/github/ecalzavarini/numerical-methods-at-polytech-lille/blob/master/MNI-TP2-2015.ipynb        "
     ]
    },
    {
     "cell_type": "heading",
     "level": 3,
     "metadata": {},
     "source": [
      "Instructions pour ce TP"
     ]
    },
    {
     "cell_type": "markdown",
     "metadata": {},
     "source": [
      "Pendant ce TP vous aurez \u00e0 \u00e9crire plusieurs scripts (nous vous sugg\u00e9rons de les nommer script1.py , script2.py ,...) \n",
      "\n",
      "\n",
      "\n"
     ]
    },
    {
     "cell_type": "markdown",
     "metadata": {},
     "source": [
      "Les scripts doivent \u00eatre accompagn\u00e9s par un document descriptif unique ( README.txt ). \n",
      "Dans ce fichier, vous devrez d\u00e9crire le mode de fonctionnement des scripts et, si besoin,  mettre vos commentaires.\n",
      "Merci d'y \u00e9crires aussi vos nomes et pr\u00e9noms complets.\n"
     ]
    },
    {
     "cell_type": "markdown",
     "metadata": {},
     "source": [
      "Tous les fichiers doivent etre mis dans un dossier appel\u00e9 TP1-nom1-nom2  et ensuite \u00eatre compress\u00e9s dans un fichier TP1-nom1-nom2.tgz . \n"
     ]
    },
    {
     "cell_type": "markdown",
     "metadata": {},
     "source": [
      "Enfin vous allez envoyer ce fichier par email  \u00e0 l'enseignant : \n",
      "\n",
      "soit Enrico (enrico.calzavarini@polytech-lille.fr) ou Stefano (stefano.berti@polytech-lille.fr)\n",
      "\n"
     ]
    },
    {
     "cell_type": "markdown",
     "metadata": {},
     "source": [
      "Vous avez une semaine de temps pour compl\u00e9ter le TP, c\u2019est-\u00e0-dire que la date limite pour envoyer vos travaux est 7 jours apr\u00e8s la date du TP courant."
     ]
    },
    {
     "cell_type": "heading",
     "level": 2,
     "metadata": {},
     "source": [
      " Objectif"
     ]
    },
    {
     "cell_type": "markdown",
     "metadata": {},
     "source": [
      "Ecrire un script Python permettant de r\u00e9soudre une \u00e9quation diff\u00e9rentielle ordinaire du premier\n",
      "ordre $y' = f (x, y(x))$ avec la condition initiale $y(x_0 ) = y_0$ par la m\u00e9thode :\n",
      "\n",
      "$a$) d'Euler (de la tangente) : $y_{i+1} = y_i + h\\ f(x_i,y_i)\\ $, $\\ y_0 = y_0(x_0)\\ $, $\\ i = 0 , 1, \\ldots$\n",
      "\n",
      "$b$) du point au milieu : $y_{i+1} = y_i + h\\ f(x_i + \\frac{h}{2},y_i+\\frac{h}{2}\\ f(x_i,y_i), )\\ $, $\\ y_0 = y_0(x_0)\\ $, $\\ i = 0 , 1, \\ldots$\n",
      "\n",
      "Faire en sorte que le pas d\u2019int\u00e9gration puisse \u00eatre rentr\u00e9 par l\u2019utilisateur.\n",
      "La fonction $f(x)$ sera d\u00e9finie \u00e0 l\u2019aide d\u2019une $function$ dans le script.\n"
     ]
    },
    {
     "cell_type": "heading",
     "level": 2,
     "metadata": {},
     "source": [
      "Programmation et validation"
     ]
    },
    {
     "cell_type": "markdown",
     "metadata": {},
     "source": [
      "R\u00e9soudre l\u2019\u00e9quation $y' = \\cos(x)$ avec $y(0) = 0$ pour $x$ variant de $0$ \u00e0 $2\\pi$. Faire les calculs en\n",
      "faisant varier le pas: $h = \\pi/5, \\pi/10, \\pi/20, \\ldots$ et comparer la valeur de $y$ au point $x = 3\\pi/2$ (valeur th\u00e9orique: -1). Repr\u00e9senter sur un graphique la courbe exacte $y_e = sin(x)$ et les solutions obtenues \u00e0 l\u2019aide des deux m\u00e9thodes (pour $x\\in \\left[ 0,2\\pi \\right]$).\n",
      "\n",
      "Les valeurs obtenues doivent \u00eatre affich\u00e9es de fa\u00e7on claire sur l'\u00e9cran par le script et dans le compte-rendu dans un tableau. \n",
      "\n",
      "Formuler une conclusion en comparant les r\u00e9sultats obtenus par les deux m\u00e9thodes."
     ]
    },
    {
     "cell_type": "heading",
     "level": 2,
     "metadata": {},
     "source": [
      "Application"
     ]
    },
    {
     "cell_type": "markdown",
     "metadata": {},
     "source": [
      "Un projectile de masse $m$ est lanc\u00e9 \u00e0 la vitesse initiale $\\vec{v}_0$\n",
      "et \u00e0 l'angle $\\alpha_0$ de l'horizontale (voir figure). Pendant son\n",
      "mouvement il est soumis \u00e0 la force de pesanteur \n",
      "\n",
      "$\\vec{P} = m \\vec{g}$\n",
      "\n",
      "et \u00e0 la r\u00e9sistance de l'air \n",
      "\n",
      "$\\vec{F}_r = \u2212k \\vec{v}$ \n",
      "\n",
      "o\u00f9 $\\vec{v} = d\\vec{x}/dt$ est le vecteur vitesse, $k$ une constante et $\\vec{x}$ le vecteur position."
     ]
    },
    {
     "cell_type": "code",
     "collapsed": false,
     "input": [
      "from IPython.display import Image\n",
      "Image(filename='rocket.jpg')"
     ],
     "language": "python",
     "metadata": {},
     "outputs": [
      {
       "jpeg": "[encoded data removed]",
       "metadata": {},
       "output_type": "pyout",
       "prompt_number": 1,
       "text": [
        "<IPython.core.display.Image at 0x10e901790>"
       ]
      }
     ],
     "prompt_number": 1
    },
    {
     "cell_type": "markdown",
     "metadata": {},
     "source": [
      "a) En appliquant le Principe Fondamental de la Dynamique, trouver analytiquement les \u00e9quations diff\u00e9rentielles v\u00e9rifi\u00e9es par les composantes du vecteur $\\vec{x}$.\n",
      "\n",
      "b) Par un changement de variables, transformer les \u00e9quations (et les conditions initiales) obtenues en un syst\u00e8me de quatre \u00e9quations diff\u00e9rentielles d'ordre 1 de forme g\u00e9n\u00e9rale :\n",
      "\n",
      "$$y_1'(x) = f_1(x,y_1,y_2,y_3,y_4) $$\n",
      "$$y_2'(x) = f_2(x,y_1,y_2,y_3,y_4) $$\n",
      "$$y_3'(x) = f_3(x,y_1,y_2,y_3,y_4) $$\n",
      "$$y_4'(x) = f_4(x,y_1,y_2,y_3,y_4) $$\n",
      "avec les conditions initiales\n",
      "$$y_1(x_0)=y_{1,0} $$\n",
      "$$ y_2(x_0)=y_{2,0} $$\n",
      "$$y_3(x_0)=y_{3,0} $$\n",
      "$$ y_4(x_0)=y_{4,0} $$\n",
      "\n",
      "o\u00f9 l\u2019expression des fonctions $f_1$ , $f_2$ , $f_3$, $f_4$ doit \u00eatre d\u00e9termin\u00e9e.\n",
      "\n",
      "On adoptera les notations suivantes : $x$ (le temps $t$) , $y_1$ (l'abscisse $x$), $y_2$ (l'ordonn\u00e9e $z$), $y_3$ (la vitesse horizontale) et $y_4$ (la vitesse verticale)."
     ]
    },
    {
     "cell_type": "heading",
     "level": 4,
     "metadata": {},
     "source": [
      "Question 1 :"
     ]
    },
    {
     "cell_type": "markdown",
     "metadata": {},
     "source": [
      "Trouver, et \u00e9crire dans un fichier, la trajectoire de l'objet (et les vitesses). Trouver aussi le\n",
      "point d\u2019impact en utilisant les deux m\u00e9thodes num\u00e9riques d\u00e9finies pr\u00e9c\u00e9demment.\n",
      "\n",
      "\n",
      "Donn\u00e9es : \n",
      "\n",
      "la vitesse initiale $\\ v_0 = 10$ $[m/s]$,\n",
      "\n",
      "la masse  $\\ m = 5$ $[Kg]$,\n",
      "\n",
      "l\u2019acc\u00e9l\u00e9ration terrestre $\\ g = 9.8$ $[m/s^2]$,\n",
      "\n",
      "l'angle $\\ \\alpha_0 = 45$ $[degr\u00e9s]$,\n",
      "\n",
      "le coefficient de r\u00e9sistance $\\ k = 0.5$  $[1/s]$,\n",
      "\n",
      "On prendra un pas d\u2019int\u00e9gration $\\ \\Delta t = 10^{-2}$ $[s]$."
     ]
    },
    {
     "cell_type": "heading",
     "level": 4,
     "metadata": {},
     "source": [
      "Question 2 :"
     ]
    },
    {
     "cell_type": "markdown",
     "metadata": {},
     "source": [
      "Comparer les positions du point d\u2019impact calcul\u00e9es par les diff\u00e9rentes m\u00e9thodes pour\n",
      "plusieurs valeurs du pas d\u2019int\u00e9gration $\\Delta t$ (on prendra successivement les pas $\\Delta t$ suivants : $10^{-1}, 10^{-2}, 10^{-3}, \\ldots$ secondes). Les r\u00e9sultats pourront \u00eatre pr\u00e9sent\u00e9s sous forme d\u2019un tableau.\n",
      "\n"
     ]
    },
    {
     "cell_type": "heading",
     "level": 4,
     "metadata": {},
     "source": [
      "Bonus: "
     ]
    },
    {
     "cell_type": "markdown",
     "metadata": {},
     "source": [
      "Appliquer la m\u00e9thode de Runge-Kutta d'ordre 4 ($RK4$) afin de r\u00e9soudre l\u2019\u00e9quation\n",
      "diff\u00e9rentielle\n",
      "$ y' = \u2212ry$ , avec $y(0) =1$ et $r = 8$, pour $x \\in \\left[0,2\\right]$. Repr\u00e9senter sur un graphique la solution num\u00e9rique obtenue ainsi que la solution analytique (exacte)\n",
      "$y_e = exp(\u2212rx)$. Motiver le choix du pas d\u2019int\u00e9gration $h$."
     ]
    },
    {
     "cell_type": "code",
     "collapsed": false,
     "input": [
      "from IPython.core.display import HTML\n",
      "def css_styling():\n",
      "    styles = open('custom.css', 'r').read()\n",
      "    return HTML(styles)\n",
      "css_styling()"
     ],
     "language": "python",
     "metadata": {},
     "outputs": [
      {
       "html": [
        "<link href='http://fonts.googleapis.com/css?family=Fenix' rel='stylesheet' type='text/css'>\n",
        "<link href='http://fonts.googleapis.com/css?family=Alegreya+Sans:100,300,400,500,700,800,900,100italic,300italic,400italic,500italic,700italic,800italic,900italic' rel='stylesheet' type='text/css'>\n",
        "<link href='http://fonts.googleapis.com/css?family=Source+Code+Pro:300,400' rel='stylesheet' type='text/css'>\n",
        "<style>\n",
        "    @font-face {\n",
        "        font-family: \"Computer Modern\";\n",
        "        src: url('http://mirrors.ctan.org/fonts/cm-unicode/fonts/otf/cmunss.otf');\n",
        "    }\n",
        "    div.cell{\n",
        "        width:800px;\n",
        "        margin-left:16% !important;\n",
        "        margin-right:auto;\n",
        "    }\n",
        "    h1 {\n",
        "        font-family: 'Alegreya Sans', sans-serif;\n",
        "    }\n",
        "    h2 {\n",
        "        font-family: 'Fenix', serif;\n",
        "    }\n",
        "    h3{\n",
        "\tfont-family: 'Fenix', serif;\n",
        "        margin-top:12px;\n",
        "        margin-bottom: 3px;\n",
        "       }\n",
        "       h4{\n",
        "\tfont-family: 'Fenix', serif;\n",
        "       }\n",
        "    h5 {\n",
        "        font-family: 'Alegreya Sans', sans-serif;\n",
        "    }   \n",
        "    h6 {\n",
        "        font-family: 'Alegreya Sans', sans-serif;\n",
        "    }\n",
        "\n",
        "    div.text_cell_render{\n",
        "        font-family: 'Alegreya Sans',Computer Modern, \"Helvetica Neue\", Arial, Helvetica, Geneva, sans-serif;\n",
        "        line-height: 135%;\n",
        "        font-size: 130%;\n",
        "        width:600px;\n",
        "        margin-left:auto;\n",
        "        margin-right:auto;\n",
        "    }\n",
        "    .CodeMirror{\n",
        "            font-family: \"Source Code Pro\";\n",
        "\t    \t\t \t font-size: 90%;\n",
        "    }\n",
        "/*    .prompt{\n",
        "        display: None;\n",
        "    }*/\n",
        "    .text_cell_render h1 {\n",
        "        font-weight: 200;\n",
        "        font-size: 40pt;\n",
        "        line-height: 100%;\n",
        "        color:#CD2305;\n",
        "        margin-bottom: 0.5em;\n",
        "        margin-top: 0.5em;\n",
        "        display: block;\n",
        "    }\t\n",
        "    .text_cell_render h5 {\n",
        "        font-weight: 300;\n",
        "        font-size: 16pt;\n",
        "        color: #CD2305;\n",
        "        font-style: italic;\n",
        "        margin-bottom: .5em;\n",
        "        margin-top: 0.5em;\n",
        "        display: block;\n",
        "    }\n",
        "    .text_cell_render h6 {\n",
        "        font-weight: 400;\n",
        "        font-size: 15pt;\n",
        "        color: #00b35a;\n",
        "        font-style: normal;\n",
        "        margin-bottom: .1em;\n",
        "        margin-top: 0.1em;\n",
        "        display: block;\n",
        "    }\n",
        "\n",
        "    \n",
        "    .warning{\n",
        "        color: rgb( 240, 20, 20 )\n",
        "        }  \n",
        "</style>\n",
        "<script>\n",
        "    MathJax.Hub.Config({\n",
        "                        TeX: {\n",
        "                           extensions: [\"AMSmath.js\"]\n",
        "                           },\n",
        "                tex2jax: {\n",
        "                    inlineMath: [ ['$','$'], [\"\\\\(\",\"\\\\)\"] ],\n",
        "                    displayMath: [ ['$$','$$'], [\"\\\\[\",\"\\\\]\"] ]\n",
        "                },\n",
        "                displayAlign: 'center', // Change this to 'center' to center equations.\n",
        "                \"HTML-CSS\": {\n",
        "                    styles: {'.MathJax_Display': {\"margin\": 4}}\n",
        "                }\n",
        "        });\n",
        "</script>"
       ],
       "metadata": {},
       "output_type": "pyout",
       "prompt_number": 2,
       "text": [
        "<IPython.core.display.HTML at 0x10e8f8ad0>"
       ]
      }
     ],
     "prompt_number": 2
    }
   ],
   "metadata": {}
  }
 ]
}