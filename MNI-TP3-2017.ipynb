{
 "cells": [
  {
   "cell_type": "markdown",
   "metadata": {},
   "source": [
    "##### TP 3 -- Méthodes Numériques pour l’Ingénieur CM3"
   ]
  },
  {
   "cell_type": "markdown",
   "metadata": {},
   "source": [
    "# Systèmes linéaires"
   ]
  },
  {
   "cell_type": "markdown",
   "metadata": {},
   "source": [
    "Le texte de cette session de travaux pratiques est également disponible ici\n",
    "\n",
    "http://nbviewer.ipython.org/github/ecalzavarini/numerical-methods-at-polytech-lille/blob/master/MNI-TP3-2017.ipynb        "
   ]
  },
  {
   "cell_type": "markdown",
   "metadata": {},
   "source": [
    "### Instructions pour ce TP"
   ]
  },
  {
   "cell_type": "markdown",
   "metadata": {},
   "source": [
    "Pendant ce TP vous aurez à écrire plusieurs scripts (nous vous suggérons de les nommer script1.py , script2.py ,...) \n",
    "\n",
    "\n",
    "\n"
   ]
  },
  {
   "cell_type": "markdown",
   "metadata": {},
   "source": [
    "Les scripts doivent être accompagnés par un document descriptif unique ( README.txt ). \n",
    "Dans ce fichier, vous devrez décrire le mode de fonctionnement des scripts et, si besoin,  mettre vos commentaires.\n",
    "Merci d'y écrires aussi vos nomes et prénoms complets.\n"
   ]
  },
  {
   "cell_type": "markdown",
   "metadata": {},
   "source": [
    "Tous les fichiers doivent etre mis dans un dossier appelé TP3-nom1-nom2  et ensuite être compressés dans un fichier TP3-nom1-nom2.tgz . \n"
   ]
  },
  {
   "cell_type": "markdown",
   "metadata": {},
   "source": [
    "Enfin vous allez envoyer ce fichier par email  à l'enseignant : \n",
    "\n",
    "soit Enrico (enrico.calzavarini@polytech-lille.fr) ou Stefano (stefano.berti@polytech-lille.fr)\n",
    "\n"
   ]
  },
  {
   "cell_type": "markdown",
   "metadata": {},
   "source": [
    "Vous avez une semaine de temps pour compléter le TP, c’est-à-dire que la date limite pour envoyer vos travaux est 7 jours après la date du TP courant."
   ]
  },
  {
   "cell_type": "markdown",
   "metadata": {},
   "source": [
    "##  Objectif"
   ]
  },
  {
   "cell_type": "markdown",
   "metadata": {},
   "source": [
    "On se propose de résoudre le système linéaire $A\\ \\vec{x}=\\vec{b}$ (où A représente une matrice régulière d’ordre $n$, $\\vec{x}$ le vecteur inconnu et $\\vec{b}$ le second membre) par deux méthodes :\n",
    "\n",
    "$a$) la méthode directe de $\\textbf{Gauss}$ (en appliquant la stratégie du pivot partiel)\n",
    "\n",
    "$b$) la méthode itérative de $\\textbf{Jacobi}$ (avec le critère d’arrêt  $|| \\vec{x}_{k} - \\vec{x}_{k+1} || < \\epsilon\\ $ où $k$ est l'indice d'itération). \n",
    "\n",
    "Pour cela, on écrira un script python (un pour chaque méthode).\n",
    "Au bout de pouvoir utiliser le même script plusieurs fois, il est pratique de faire en sorte que la matrice $A$ et le vecteur $\\vec{b}$ puissent être fournis par l'utilisateur. \n"
   ]
  },
  {
   "cell_type": "markdown",
   "metadata": {},
   "source": [
    "## Programmation et validation"
   ]
  },
  {
   "cell_type": "markdown",
   "metadata": {},
   "source": [
    "On testera le programme sur les systèmes ci-dessous :\n",
    "$$\n",
    "{A}= \n",
    "\\left( \\begin{array}{cccc}\n",
    "6 & 2 & 2 & 4 \\\\\n",
    "2 & 8 & 2 & 1 \\\\\n",
    "4 & 2 & 16 & 8\\\\\n",
    "2 & 4 & 1 & 9\n",
    "\\end{array} \\right)\n",
    "\\quad \n",
    "\\vec{b} =\n",
    "\\left( \\begin{array}{c}\n",
    "1 \\\\\n",
    "2 \\\\\n",
    "4 \\\\\n",
    "1 \\\\\n",
    "\\end{array} \\right)\n",
    "$$\n",
    "\n",
    "$$\n",
    "{A}= \n",
    "\\left( \\begin{array}{ccc}\n",
    "19 & 5 & 7 \\\\\n",
    "2 & 7 & 2 \\\\\n",
    "1 & 6 & 11 \n",
    "\\end{array} \\right)\n",
    "\\quad \n",
    "\\vec{b} =\n",
    "\\left( \\begin{array}{c}\n",
    "8 \\\\\n",
    "2 \\\\\n",
    "1 \\\\\n",
    "\\end{array} \\right)\n",
    "$$\n",
    "\n",
    "$$\n",
    "{A}= \n",
    "\\left( \\begin{array}{cccc}\n",
    "7 & 0 & 1 & -1 \\\\\n",
    "3 & 10 & 5 & 0 \\\\\n",
    "0 & 4 & 9 & 2\\\\\n",
    "1 & -5 & 3 & 15\n",
    "\\end{array} \\right)\n",
    "\\quad \n",
    "\\vec{b} =\n",
    "\\left( \\begin{array}{c}\n",
    "4 \\\\\n",
    "3 \\\\\n",
    "-3 \\\\\n",
    "12 \\\\\n",
    "\\end{array} \\right)\n",
    "$$\n",
    "\n",
    "Dans l’application de la méthode de Jacobi, on étudiera l’influence de la\n",
    "précision $\\epsilon$ sur la solution (et le nombre d’itérations nécessaires pour l’obtenir). \n",
    "\n",
    "$\\textbf{Remarque}$ : Avant d'appliquer la méthode de Jacobi, on fera le test de la diagonale dominante de la matrice $A$. Le vecteur initial sera entré par l'utilisateur (nous vous suggérons d'essayer le vecteur où toutes les composantes sont égales à l'unité : $[1,1,1,\\ldots]$).\n",
    "\n",
    "Formuler une conclusion en comparant les résultats obtenus par les deux méthodes."
   ]
  },
  {
   "cell_type": "markdown",
   "metadata": {},
   "source": [
    "## Application"
   ]
  },
  {
   "cell_type": "markdown",
   "metadata": {},
   "source": [
    "On dispose de $n = 7$ points expérimentaux de coordonnées $(x_i,y_i)$ ($i=1,...,n$) suivantes:\n",
    "$$\n",
    "\\begin{array}{l}\n",
    "(-1.5, 0.9)\\\\\n",
    "(-1.0, 1.2)\\\\ \n",
    "(-0.5, -.08)\\\\ \n",
    "(0.0, -2.0)\\\\ \n",
    "(0.5, -1.3)\\\\\n",
    "(1.0, -0.5)\\\\\n",
    "(1.3, 0.5)\n",
    "\\end{array} \n",
    "$$\n",
    "\n",
    "En utilisant la méthode de Gauss, trouver les paramètres $a_k (k = 0,1,2)$ du modèle\n",
    "parabolique $y(x) = a_0 + a_1 x + a_2 x^2$ approximant au mieux les données au sens des moindres\n",
    "carrés. Les valeurs des paramètres seront déterminées en résolvant le système linéaire\n",
    "suivant :\n",
    "\n",
    "$$\n",
    "\\left( \\begin{array}{ccc}\n",
    "n & \\Sigma_{i=1}^{n} x_i & \\Sigma_{i=1}^{n} x_i^2\\\\\n",
    "\\Sigma_{i=1}^{n} x_i & \\Sigma_{i=1}^{n} x_i^2 & \\Sigma_{i=1}^{n} x_i^3 \\\\\n",
    "\\Sigma_{i=1}^{n} x_i^2 & \\Sigma_{i=1}^{n} x_i^3 & \\Sigma_{i=1}^{n} x_i^4 \n",
    "\\end{array} \\right)\n",
    "\\quad \n",
    "\\left( \\begin{array}{c}\n",
    "a_0 \\\\\n",
    "a_1 \\\\\n",
    "a_2\n",
    "\\end{array} \\right)\n",
    "= \n",
    "\\left( \\begin{array}{c}\n",
    "\\Sigma_{i=1}^{n} y_i \\\\\n",
    "\\Sigma_{i=1}^{n} x_i y_i \\\\\n",
    "\\Sigma_{i=1}^{n} x_i^2 y_i \n",
    "\\end{array} \\right)\n",
    "$$\n"
   ]
  },
  {
   "cell_type": "markdown",
   "metadata": {},
   "source": [
    "Les points et la courbe d’approximation obtenue seront visualisés sur un graphique."
   ]
  },
  {
   "cell_type": "markdown",
   "metadata": {},
   "source": [
    "#### Rappel de Python "
   ]
  },
  {
   "cell_type": "markdown",
   "metadata": {},
   "source": [
    "Pour définir une matrice ou un vecteur :"
   ]
  },
  {
   "cell_type": "code",
   "execution_count": null,
   "metadata": {
    "collapsed": false
   },
   "outputs": [],
   "source": [
    "import numpy as np\n",
    "A = np.array([[3,1],[-1,2]] ,float)\n",
    "b = np.array([2,-2],float)\n"
   ]
  },
  {
   "cell_type": "markdown",
   "metadata": {},
   "source": [
    "Pour entrer des matrices et des vecteurs, ainsi que pour les combiner dans une seule matrice:"
   ]
  },
  {
   "cell_type": "code",
   "execution_count": null,
   "metadata": {
    "collapsed": false
   },
   "outputs": [],
   "source": [
    "import numpy as np\n",
    "\n",
    "N=input(\"N=?\") # taille du probleme\n",
    "\n",
    "# lecture de la matrice A, p.ex. [[1,2],[3,4]]\n",
    "A=input(\"A=?\") \n",
    "# lecture du vecteur b, p.ex. [0,1]\n",
    "b=input(\"b=?\") \n",
    "\n",
    "# on définit A,b comme des arrays numpy\n",
    "A=np.asarray(A,float) \n",
    "b=np.asarray(b,float)\n",
    "\n",
    "# on ajoute b comme dernière colonne à A \n",
    "# pour obtenir la matrice augmentée Ab\n",
    "Ab=np.column_stack((A,b)) \n",
    "\n",
    "# on verifie\n",
    "print(\"A=\")\n",
    "print(A)\n",
    "print(\"b=\")\n",
    "print(b)\n",
    "print(\"Ab=\")\n",
    "print(Ab)\n"
   ]
  },
  {
   "cell_type": "markdown",
   "metadata": {},
   "source": [
    "Vous pouvez vérifier la solution du système linéaire $A \\vec{x} = \\vec{b}$ en utilisant la fonction $\\textbf{linalg.solve}$ de la bibliothèque Numpy :"
   ]
  },
  {
   "cell_type": "code",
   "execution_count": null,
   "metadata": {
    "collapsed": false
   },
   "outputs": [],
   "source": [
    "x = np.linalg.solve(A, b)\n",
    "print(x)"
   ]
  },
  {
   "cell_type": "markdown",
   "metadata": {},
   "source": [
    "autres fonctions utiles de Numpy :"
   ]
  },
  {
   "cell_type": "code",
   "execution_count": null,
   "metadata": {
    "collapsed": false
   },
   "outputs": [],
   "source": [
    "# produit scalaire matrice vecteur  ( c'est différent de A*b! )\n",
    "np.dot(A,b) \n",
    "# somme des composantes du vecteur b\n",
    "np.sum(b)  "
   ]
  }
 ],
 "metadata": {
  "kernelspec": {
   "display_name": "Python 2",
   "language": "python",
   "name": "python2"
  },
  "language_info": {
   "codemirror_mode": {
    "name": "ipython",
    "version": 2
   },
   "file_extension": ".py",
   "mimetype": "text/x-python",
   "name": "python",
   "nbconvert_exporter": "python",
   "pygments_lexer": "ipython2",
   "version": "2.7.10"
  }
 },
 "nbformat": 4,
 "nbformat_minor": 0
}
